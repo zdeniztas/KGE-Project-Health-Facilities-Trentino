{
 "cells": [
  {
   "cell_type": "code",
   "execution_count": 2,
   "id": "cae6e132-2c47-4668-a054-d42ee533d9fa",
   "metadata": {},
   "outputs": [],
   "source": [
    "import pandas as pd\n",
    "\n",
    "# Load the data to check column names\n",
    "df = pd.read_csv('ASSRESIDENZIALE001.csv')"
   ]
  },
  {
   "cell_type": "code",
   "execution_count": 3,
   "id": "e1cbf4c3-51bd-482f-9c60-abfa58cff10b",
   "metadata": {},
   "outputs": [],
   "source": [
    "# Step 1: Remove duplicates\n",
    "df = df.drop_duplicates()"
   ]
  },
  {
   "cell_type": "code",
   "execution_count": 6,
   "id": "e0c8cb2b-9eab-47f7-8164-e74bcd6af928",
   "metadata": {},
   "outputs": [],
   "source": [
    "# Step 2: Check and convert data types\n",
    "# Convert identifier columns to strings since they are codes\n",
    "df['COD_STRUTTURA_OD'] = df['COD_STRUTTURA_OD'].astype(str)\n",
    "df['COD_STRUTTURA'] = df['COD_STRUTTURA'].astype(str)\n",
    "df['COD_TIPO_ASSISTENZA'] = df['COD_TIPO_ASSISTENZA'].astype(str)\n",
    "df['COD_TIPO_RAPPORTO'] = df['COD_TIPO_RAPPORTO'].astype(str)\n",
    "\n",
    "# Convert 'ANNO' to integer if it's a year\n",
    "df['ANNO'] = df['ANNO'].astype(int)\n",
    "\n",
    "# Ensure 'NUM_UTENTI', 'NUM_POSTI', 'NUM_GG_ASSISTENZA', 'NUM_AMMISSIONI', and 'NUM_DIMISSIONI' are integers\n",
    "df['NUM_UTENTI'] = df['NUM_UTENTI'].astype(int)\n",
    "df['NUM_POSTI'] = df['NUM_POSTI'].astype(int)\n",
    "df['NUM_GG_ASSISTENZA'] = df['NUM_GG_ASSISTENZA'].astype(int)\n",
    "df['NUM_AMMISSIONI'] = df['NUM_AMMISSIONI'].astype(int)\n",
    "df['NUM_DIMISSIONI'] = df['NUM_DIMISSIONI'].astype(int)\n"
   ]
  },
  {
   "cell_type": "code",
   "execution_count": 7,
   "id": "25380d5a-2137-48df-9e6e-71daef4570de",
   "metadata": {},
   "outputs": [],
   "source": [
    "# Step 3: Standardize text data\n",
    "# Convert 'STRUTTURA', 'ASSISTENZA', 'TIPO_RAPPORTO', and 'TIPO_STRUTTURA' to uppercase\n",
    "df['STRUTTURA'] = df['STRUTTURA'].str.upper()\n",
    "df['ASSISTENZA'] = df['ASSISTENZA'].str.upper()\n",
    "df['TIPO_RAPPORTO'] = df['TIPO_RAPPORTO'].str.upper()\n",
    "df['TIPO_STRUTTURA'] = df['TIPO_STRUTTURA'].str.upper()\n"
   ]
  },
  {
   "cell_type": "code",
   "execution_count": 8,
   "id": "803e36b8-de2f-4fd8-9b30-73fc94e77379",
   "metadata": {},
   "outputs": [
    {
     "name": "stdout",
     "output_type": "stream",
     "text": [
      "Missing values per column:\n",
      " COD_STRUTTURA_OD       0\n",
      "COD_STRUTTURA          0\n",
      "STRUTTURA              0\n",
      "COD_TIPO_ASSISTENZA    0\n",
      "ASSISTENZA             0\n",
      "COD_TIPO_RAPPORTO      0\n",
      "TIPO_RAPPORTO          0\n",
      "TIPO_STRUTTURA         0\n",
      "ANNO                   0\n",
      "NUM_UTENTI             0\n",
      "NUM_POSTI              0\n",
      "NUM_GG_ASSISTENZA      0\n",
      "NUM_AMMISSIONI         0\n",
      "NUM_DIMISSIONI         0\n",
      "dtype: int64\n"
     ]
    }
   ],
   "source": [
    "# Step 4: Handle missing values\n",
    "# Check for missing values in each column\n",
    "print(\"Missing values per column:\\n\", df.isnull().sum())\n",
    "\n",
    "# Optionally, drop or fill missing values in key columns if necessary\n",
    "# For example, drop rows with missing values in critical columns\n",
    "# df = df.dropna(subset=['ANNO', 'NUM_UTENTI', 'NUM_POSTI', 'NUM_GG_ASSISTENZA', 'NUM_AMMISSIONI', 'NUM_DIMISSIONI'])\n"
   ]
  },
  {
   "cell_type": "code",
   "execution_count": null,
   "id": "2ccc7dee-3cc6-4d08-8452-057cd140c48a",
   "metadata": {},
   "outputs": [],
   "source": [
    "# Drop the specified columns\n",
    "#columns_to_remove = ['COD_STRUTTURA_OD', 'COD_STRUTTURA', 'COD_TIPO_ASSISTENZA', 'COD_TIPO_RAPPORTO']\n",
    "#df = df.drop(columns=columns_to_remove)"
   ]
  },
  {
   "cell_type": "code",
   "execution_count": 9,
   "id": "d7d46691-f572-42ba-8773-af13610a52e6",
   "metadata": {},
   "outputs": [
    {
     "name": "stdout",
     "output_type": "stream",
     "text": [
      "Cleaning and standardization for ASSRESIDENZIALE001.csv is complete!\n"
     ]
    }
   ],
   "source": [
    "# Step 5: Save the cleaned data to a new CSV file\n",
    "#df.to_csv('ASSRESIDENZIALE001_cleaned.csv', index=False)\n",
    "\n",
    "print(\"Cleaning and standardization for ASSRESIDENZIALE001.csv is complete!\")"
   ]
  },
  {
   "cell_type": "code",
   "execution_count": null,
   "id": "dd9c016a-a5f3-4dba-8764-a8e3928cca4a",
   "metadata": {},
   "outputs": [],
   "source": []
  }
 ],
 "metadata": {
  "kernelspec": {
   "display_name": "Python 3 (ipykernel)",
   "language": "python",
   "name": "python3"
  },
  "language_info": {
   "codemirror_mode": {
    "name": "ipython",
    "version": 3
   },
   "file_extension": ".py",
   "mimetype": "text/x-python",
   "name": "python",
   "nbconvert_exporter": "python",
   "pygments_lexer": "ipython3",
   "version": "3.11.9"
  }
 },
 "nbformat": 4,
 "nbformat_minor": 5
}

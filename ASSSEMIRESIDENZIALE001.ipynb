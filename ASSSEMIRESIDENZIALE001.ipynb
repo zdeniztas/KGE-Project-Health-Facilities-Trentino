{
 "cells": [
  {
   "cell_type": "code",
   "execution_count": 1,
   "id": "21b1b04c-33fb-4a44-8994-6711fdd6bad0",
   "metadata": {},
   "outputs": [
    {
     "name": "stdout",
     "output_type": "stream",
     "text": [
      "Index(['COD_STRUTTURA_OD', 'COD_STRUTTURA', 'STRUTTURA', 'COD_TIPO_ASSISTENZA',\n",
      "       'ASSISTENZA', 'COD_TIPO_RAPPORTO', 'TIPO_RAPPORTO', 'TIPO_STRUTTURA',\n",
      "       'ANNO', 'NUM_UTENTI', 'NUM_POSTI', 'NUM_GIORNATE'],\n",
      "      dtype='object')\n"
     ]
    }
   ],
   "source": [
    "import pandas as pd\n",
    "\n",
    "# Load the data to check column names\n",
    "df = pd.read_csv('ASSSEMIRESIDENZIALE001.csv')"
   ]
  },
  {
   "cell_type": "code",
   "execution_count": 2,
   "id": "a512a8ab-a3a7-46a0-a1db-0b75a8def520",
   "metadata": {},
   "outputs": [],
   "source": [
    "# Step 1: Remove duplicates\n",
    "df = df.drop_duplicates()\n"
   ]
  },
  {
   "cell_type": "code",
   "execution_count": 4,
   "id": "49a6a5fc-c70c-4842-a953-3ba72d44ffc2",
   "metadata": {},
   "outputs": [],
   "source": [
    "# Step 2: Check and convert data types\n",
    "# Convert identifier columns to strings since they are codes\n",
    "df['COD_STRUTTURA_OD'] = df['COD_STRUTTURA_OD'].astype(str)\n",
    "df['COD_STRUTTURA'] = df['COD_STRUTTURA'].astype(str)\n",
    "df['COD_TIPO_ASSISTENZA'] = df['COD_TIPO_ASSISTENZA'].astype(str)\n",
    "df['COD_TIPO_RAPPORTO'] = df['COD_TIPO_RAPPORTO'].astype(str)\n",
    "\n",
    "# Convert 'ANNO' to integer if it's a year\n",
    "df['ANNO'] = df['ANNO'].astype(int)\n",
    "\n",
    "# Ensure 'NUM_UTENTI', 'NUM_POSTI', and 'NUM_GIORNATE' are integers\n",
    "df['NUM_UTENTI'] = df['NUM_UTENTI'].astype(int)\n",
    "df['NUM_POSTI'] = df['NUM_POSTI'].astype(int)\n",
    "df['NUM_GIORNATE'] = df['NUM_GIORNATE'].astype(int)\n"
   ]
  },
  {
   "cell_type": "code",
   "execution_count": 5,
   "id": "ec7a591a-5cb5-4248-82d2-a7e4c721c7e1",
   "metadata": {},
   "outputs": [],
   "source": [
    "# Step 3: Standardize text data\n",
    "# Convert 'STRUTTURA', 'ASSISTENZA', 'TIPO_RAPPORTO', and 'TIPO_STRUTTURA' to uppercase\n",
    "df['STRUTTURA'] = df['STRUTTURA'].str.upper()\n",
    "df['ASSISTENZA'] = df['ASSISTENZA'].str.upper()\n",
    "df['TIPO_RAPPORTO'] = df['TIPO_RAPPORTO'].str.upper()\n",
    "df['TIPO_STRUTTURA'] = df['TIPO_STRUTTURA'].str.upper()\n"
   ]
  },
  {
   "cell_type": "code",
   "execution_count": 6,
   "id": "c53d6c58-553e-4b64-82f5-991fc067cb82",
   "metadata": {},
   "outputs": [
    {
     "name": "stdout",
     "output_type": "stream",
     "text": [
      "Missing values per column:\n",
      " COD_STRUTTURA_OD       0\n",
      "COD_STRUTTURA          0\n",
      "STRUTTURA              0\n",
      "COD_TIPO_ASSISTENZA    0\n",
      "ASSISTENZA             0\n",
      "COD_TIPO_RAPPORTO      0\n",
      "TIPO_RAPPORTO          0\n",
      "TIPO_STRUTTURA         0\n",
      "ANNO                   0\n",
      "NUM_UTENTI             0\n",
      "NUM_POSTI              0\n",
      "NUM_GIORNATE           0\n",
      "dtype: int64\n"
     ]
    }
   ],
   "source": [
    "# Step 4: Handle missing values\n",
    "# Check for missing values in each column\n",
    "print(\"Missing values per column:\\n\", df.isnull().sum())\n",
    "\n",
    "# Optionally, drop or fill missing values in key columns if necessary\n",
    "# For example, drop rows with missing values in critical columns\n",
    "# df = df.dropna(subset=['ANNO', 'NUM_UTENTI', 'NUM_POSTI', 'NUM_GIORNATE'])\n"
   ]
  },
  {
   "cell_type": "code",
   "execution_count": null,
   "id": "452e5fe6-6bb8-4f12-b929-d5961c021fbd",
   "metadata": {},
   "outputs": [],
   "source": [
    "# Drop the specified columns\n",
    "#columns_to_remove = ['COD_STRUTTURA_OD', 'COD_STRUTTURA', 'COD_TIPO_ASSISTENZA', 'COD_TIPO_RAPPORTO']\n",
    "#df = df.drop(columns=columns_to_remove)"
   ]
  },
  {
   "cell_type": "code",
   "execution_count": 8,
   "id": "0237b9d7-fae6-43bf-b338-ac2e0242a282",
   "metadata": {},
   "outputs": [
    {
     "name": "stdout",
     "output_type": "stream",
     "text": [
      "Cleaning and standardization for ASSSEMIRESIDENZIALE001.csv is complete!\n"
     ]
    }
   ],
   "source": [
    "# Step 5: Save the cleaned data to a new CSV file\n",
    "#df.to_csv('ASSSEMIRESIDENZIALE001_cleaned.csv', index=False)\n",
    "\n",
    "print(\"Cleaning and standardization for ASSSEMIRESIDENZIALE001.csv is complete!\")"
   ]
  },
  {
   "cell_type": "code",
   "execution_count": null,
   "id": "1093276a-6e74-4c2f-9d6a-14a5505577bf",
   "metadata": {},
   "outputs": [],
   "source": []
  }
 ],
 "metadata": {
  "kernelspec": {
   "display_name": "Python 3 (ipykernel)",
   "language": "python",
   "name": "python3"
  },
  "language_info": {
   "codemirror_mode": {
    "name": "ipython",
    "version": 3
   },
   "file_extension": ".py",
   "mimetype": "text/x-python",
   "name": "python",
   "nbconvert_exporter": "python",
   "pygments_lexer": "ipython3",
   "version": "3.11.9"
  }
 },
 "nbformat": 4,
 "nbformat_minor": 5
}

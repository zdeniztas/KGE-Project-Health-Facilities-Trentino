{
 "cells": [
  {
   "cell_type": "code",
   "execution_count": 1,
   "id": "9f3dcfa7-306c-4d24-ab71-8f6a8b3eda7e",
   "metadata": {},
   "outputs": [],
   "source": [
    "import pandas as pd\n",
    "\n",
    "# Load the data\n",
    "df = pd.read_csv('PRESTAZIONIACC001.csv')"
   ]
  },
  {
   "cell_type": "code",
   "execution_count": 2,
   "id": "d5a8796d-c010-4fbf-84a7-6c484848b4c1",
   "metadata": {},
   "outputs": [],
   "source": [
    "# Step 1: Remove duplicates\n",
    "df = df.drop_duplicates()\n"
   ]
  },
  {
   "cell_type": "code",
   "execution_count": 3,
   "id": "fe9406b8-1028-49b4-92d5-fac8d4c09987",
   "metadata": {},
   "outputs": [],
   "source": [
    "# Step 2: Check and convert data types\n",
    "# Convert 'COD_PRESTAZIONE' and 'COD_TIPO_RAPPORTO' to strings since they are codes\n",
    "df['COD_PRESTAZIONE'] = df['COD_PRESTAZIONE'].astype(str)\n",
    "df['COD_TIPO_RAPPORTO'] = df['COD_TIPO_RAPPORTO'].astype(str)"
   ]
  },
  {
   "cell_type": "code",
   "execution_count": 4,
   "id": "103de8d6-66cd-4dfb-9642-95342c3526c6",
   "metadata": {},
   "outputs": [],
   "source": [
    "# Convert 'ANNO' (year) and 'NUMERO' (count) to integer for consistency\n",
    "df['ANNO'] = df['ANNO'].astype(int)\n",
    "df['NUMERO'] = df['NUMERO'].astype(int)\n"
   ]
  },
  {
   "cell_type": "code",
   "execution_count": 5,
   "id": "7251833c-1797-4eb5-b6e2-880034b89278",
   "metadata": {},
   "outputs": [],
   "source": [
    "# Step 3: Standardize text data\n",
    "# Convert 'DESC_PRESTAZIONE' (service description) and 'TIPO_RAPPORTO' (relationship type) to uppercase\n",
    "df['DESC_PRESTAZIONE'] = df['DESC_PRESTAZIONE'].str.upper()\n",
    "df['TIPO_RAPPORTO'] = df['TIPO_RAPPORTO'].str.upper()"
   ]
  },
  {
   "cell_type": "code",
   "execution_count": 6,
   "id": "6d21e9c2-76ab-4cca-a487-3f016b17ca6a",
   "metadata": {},
   "outputs": [
    {
     "name": "stdout",
     "output_type": "stream",
     "text": [
      "Missing values per column:\n",
      " COD_TIPO_RAPPORTO    0\n",
      "TIPO_RAPPORTO        0\n",
      "COD_PRESTAZIONE      0\n",
      "DESC_PRESTAZIONE     0\n",
      "ANNO                 0\n",
      "NUMERO               0\n",
      "dtype: int64\n"
     ]
    }
   ],
   "source": [
    "# Step 4: Handle missing values\n",
    "# Check for missing values in critical columns and decide whether to drop or fill them\n",
    "print(\"Missing values per column:\\n\", df.isnull().sum())\n"
   ]
  },
  {
   "cell_type": "code",
   "execution_count": null,
   "id": "36594c25-2c92-44c3-be87-780c01b6c15f",
   "metadata": {},
   "outputs": [],
   "source": [
    "# Drop the specified columns\n",
    "#columns_to_remove = ['COD_TIPO_RAPPORTO', 'COD_PRESTAZIONE']\n",
    "#df = df.drop(columns=columns_to_remove)\n"
   ]
  },
  {
   "cell_type": "code",
   "execution_count": 7,
   "id": "f0d058b7-c76f-41bd-80c9-ce321baa0deb",
   "metadata": {},
   "outputs": [
    {
     "name": "stdout",
     "output_type": "stream",
     "text": [
      "Cleaning and standardization for PRESTAZIONIACC001.csv is complete!\n"
     ]
    }
   ],
   "source": [
    "# Step 5: Save the cleaned data to a new CSV file\n",
    "#df.to_csv('PRESTAZIONIACC001_cleaned.csv', index=False)\n",
    "\n",
    "print(\"Cleaning and standardization for PRESTAZIONIACC001.csv is complete!\")"
   ]
  },
  {
   "cell_type": "code",
   "execution_count": null,
   "id": "8f42c92f-8157-479f-8750-0d2eb6cd81c1",
   "metadata": {},
   "outputs": [],
   "source": []
  }
 ],
 "metadata": {
  "kernelspec": {
   "display_name": "Python 3 (ipykernel)",
   "language": "python",
   "name": "python3"
  },
  "language_info": {
   "codemirror_mode": {
    "name": "ipython",
    "version": 3
   },
   "file_extension": ".py",
   "mimetype": "text/x-python",
   "name": "python",
   "nbconvert_exporter": "python",
   "pygments_lexer": "ipython3",
   "version": "3.11.9"
  }
 },
 "nbformat": 4,
 "nbformat_minor": 5
}

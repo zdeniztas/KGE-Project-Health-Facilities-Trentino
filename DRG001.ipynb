{
 "cells": [
  {
   "cell_type": "code",
   "execution_count": 1,
   "id": "30fb0cd2-cdba-4dd4-aa50-ae0b01515b07",
   "metadata": {},
   "outputs": [],
   "source": [
    "import pandas as pd\n"
   ]
  },
  {
   "cell_type": "code",
   "execution_count": 2,
   "id": "6eb3a95d-8467-4a44-836f-20990c61a5fd",
   "metadata": {},
   "outputs": [
    {
     "data": {
      "text/html": [
       "<div>\n",
       "<style scoped>\n",
       "    .dataframe tbody tr th:only-of-type {\n",
       "        vertical-align: middle;\n",
       "    }\n",
       "\n",
       "    .dataframe tbody tr th {\n",
       "        vertical-align: top;\n",
       "    }\n",
       "\n",
       "    .dataframe thead th {\n",
       "        text-align: right;\n",
       "    }\n",
       "</style>\n",
       "<table border=\"1\" class=\"dataframe\">\n",
       "  <thead>\n",
       "    <tr style=\"text-align: right;\">\n",
       "      <th></th>\n",
       "      <th>COD_TIPO_RAPPORTO</th>\n",
       "      <th>TIPO_RAPPORTO</th>\n",
       "      <th>COD_DRG</th>\n",
       "      <th>DRG</th>\n",
       "      <th>ANNO</th>\n",
       "      <th>NUMERO</th>\n",
       "    </tr>\n",
       "  </thead>\n",
       "  <tbody>\n",
       "    <tr>\n",
       "      <th>0</th>\n",
       "      <td>1</td>\n",
       "      <td>GESTIONE DIRETTA SSP</td>\n",
       "      <td>1</td>\n",
       "      <td>Craniotomia, età &gt; 17 anni con CC</td>\n",
       "      <td>2017</td>\n",
       "      <td>16</td>\n",
       "    </tr>\n",
       "    <tr>\n",
       "      <th>1</th>\n",
       "      <td>1</td>\n",
       "      <td>GESTIONE DIRETTA SSP</td>\n",
       "      <td>10</td>\n",
       "      <td>Neoplasie del sistema nervoso con CC</td>\n",
       "      <td>2017</td>\n",
       "      <td>46</td>\n",
       "    </tr>\n",
       "    <tr>\n",
       "      <th>2</th>\n",
       "      <td>1</td>\n",
       "      <td>GESTIONE DIRETTA SSP</td>\n",
       "      <td>100</td>\n",
       "      <td>Segni e sintomi respiratori senza CC</td>\n",
       "      <td>2017</td>\n",
       "      <td>24</td>\n",
       "    </tr>\n",
       "    <tr>\n",
       "      <th>3</th>\n",
       "      <td>1</td>\n",
       "      <td>GESTIONE DIRETTA SSP</td>\n",
       "      <td>101</td>\n",
       "      <td>Altre diagnosi relative all'apparato respirato...</td>\n",
       "      <td>2017</td>\n",
       "      <td>41</td>\n",
       "    </tr>\n",
       "    <tr>\n",
       "      <th>4</th>\n",
       "      <td>1</td>\n",
       "      <td>GESTIONE DIRETTA SSP</td>\n",
       "      <td>102</td>\n",
       "      <td>Altre diagnosi relative all'apparato respirato...</td>\n",
       "      <td>2017</td>\n",
       "      <td>31</td>\n",
       "    </tr>\n",
       "  </tbody>\n",
       "</table>\n",
       "</div>"
      ],
      "text/plain": [
       "   COD_TIPO_RAPPORTO         TIPO_RAPPORTO  COD_DRG  \\\n",
       "0                  1  GESTIONE DIRETTA SSP        1   \n",
       "1                  1  GESTIONE DIRETTA SSP       10   \n",
       "2                  1  GESTIONE DIRETTA SSP      100   \n",
       "3                  1  GESTIONE DIRETTA SSP      101   \n",
       "4                  1  GESTIONE DIRETTA SSP      102   \n",
       "\n",
       "                                                 DRG  ANNO  NUMERO  \n",
       "0                  Craniotomia, età > 17 anni con CC  2017      16  \n",
       "1               Neoplasie del sistema nervoso con CC  2017      46  \n",
       "2               Segni e sintomi respiratori senza CC  2017      24  \n",
       "3  Altre diagnosi relative all'apparato respirato...  2017      41  \n",
       "4  Altre diagnosi relative all'apparato respirato...  2017      31  "
      ]
     },
     "execution_count": 2,
     "metadata": {},
     "output_type": "execute_result"
    }
   ],
   "source": [
    "# Load the data\n",
    "df = pd.read_csv('DRG001.csv')\n",
    "\n",
    "# Display the first few rows\n",
    "df.head()"
   ]
  },
  {
   "cell_type": "code",
   "execution_count": 13,
   "id": "469901f3-fc7b-47ab-ab55-00d79e7d44aa",
   "metadata": {},
   "outputs": [
    {
     "name": "stdout",
     "output_type": "stream",
     "text": [
      "Number of duplicate rows: 0\n"
     ]
    }
   ],
   "source": [
    "# Check for duplicates\n",
    "duplicates = df.duplicated()\n",
    "print(\"Number of duplicate rows:\", duplicates.sum())"
   ]
  },
  {
   "cell_type": "code",
   "execution_count": 4,
   "id": "c415c039-736e-4ee7-b75a-f1ff17603bb6",
   "metadata": {},
   "outputs": [
    {
     "name": "stdout",
     "output_type": "stream",
     "text": [
      "Missing values per column:\n",
      " COD_TIPO_RAPPORTO    0\n",
      "TIPO_RAPPORTO        0\n",
      "COD_DRG              0\n",
      "DRG                  0\n",
      "ANNO                 0\n",
      "NUMERO               0\n",
      "dtype: int64\n"
     ]
    }
   ],
   "source": [
    "# Check for missing values\n",
    "print(\"Missing values per column:\\n\", df.isnull().sum())\n"
   ]
  },
  {
   "cell_type": "code",
   "execution_count": 5,
   "id": "bffbb580-8f0a-4405-bf13-570abd0a67a2",
   "metadata": {},
   "outputs": [],
   "source": [
    "# Convert 'ANNO' to integer\n",
    "df['ANNO'] = df['ANNO'].astype(int)\n",
    "\n",
    "# Convert 'NUMERO' to integer if needed\n",
    "df['NUMERO'] = df['NUMERO'].astype(int)"
   ]
  },
  {
   "cell_type": "code",
   "execution_count": 11,
   "id": "8313cd52-d2bd-4048-ba99-71841d41052e",
   "metadata": {},
   "outputs": [
    {
     "name": "stdout",
     "output_type": "stream",
     "text": [
      "All entries in 'TIPO_RAPPORTO' are uppercase: True\n"
     ]
    }
   ],
   "source": [
    "# Check if all entries in 'TIPO_RAPPORTO' are uppercase\n",
    "all_uppercase = df['TIPO_RAPPORTO'].str.isupper().all()\n",
    "print(\"All entries in 'TIPO_RAPPORTO' are uppercase:\", all_uppercase)\n"
   ]
  },
  {
   "cell_type": "code",
   "execution_count": null,
   "id": "fc26977f-2263-4b84-ae87-b874e029e970",
   "metadata": {},
   "outputs": [],
   "source": [
    "# Drop the specified column\n",
    "#columns_to_remove = ['COD_TIPO_RAPPORTO']\n",
    "#df = df.drop(columns=columns_to_remove)"
   ]
  },
  {
   "cell_type": "code",
   "execution_count": 12,
   "id": "6279bd6f-8aa4-4f3c-8bd7-872793f22020",
   "metadata": {},
   "outputs": [],
   "source": [
    "# Save the cleaned data\n",
    "#df.to_csv('DRG001_cleaned.csv', index=False)"
   ]
  },
  {
   "cell_type": "code",
   "execution_count": null,
   "id": "cc6bbeb2-a45d-4beb-b656-944b55c950cf",
   "metadata": {},
   "outputs": [],
   "source": []
  }
 ],
 "metadata": {
  "kernelspec": {
   "display_name": "Python 3 (ipykernel)",
   "language": "python",
   "name": "python3"
  },
  "language_info": {
   "codemirror_mode": {
    "name": "ipython",
    "version": 3
   },
   "file_extension": ".py",
   "mimetype": "text/x-python",
   "name": "python",
   "nbconvert_exporter": "python",
   "pygments_lexer": "ipython3",
   "version": "3.11.9"
  }
 },
 "nbformat": 4,
 "nbformat_minor": 5
}

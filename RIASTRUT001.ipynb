{
 "cells": [
  {
   "cell_type": "code",
   "execution_count": 1,
   "id": "4a8ab6f5-0ebc-4a1f-b4c6-d59d0a5085b7",
   "metadata": {},
   "outputs": [],
   "source": [
    "import pandas as pd\n",
    "\n",
    "# Load the data\n",
    "df = pd.read_csv('RIASTRUT001.csv')\n"
   ]
  },
  {
   "cell_type": "code",
   "execution_count": 2,
   "id": "0b8d030b-e528-4667-ad14-56d580f404c9",
   "metadata": {},
   "outputs": [],
   "source": [
    "# Step 1: Remove duplicates\n",
    "df = df.drop_duplicates()\n"
   ]
  },
  {
   "cell_type": "code",
   "execution_count": 3,
   "id": "58b0f3fb-f2b5-49db-b1f2-c9996ee5a91b",
   "metadata": {},
   "outputs": [],
   "source": [
    "# Step 2: Check and convert data types\n",
    "# Convert 'COD_RIA_OD' and 'COD_RIA' to strings as they are identifiers\n",
    "df['COD_RIA_OD'] = df['COD_RIA_OD'].astype(str)\n",
    "df['COD_RIA'] = df['COD_RIA'].astype(str)\n"
   ]
  },
  {
   "cell_type": "code",
   "execution_count": 4,
   "id": "d4eed1cb-a3e3-46d0-b206-9fb631cd8da6",
   "metadata": {},
   "outputs": [],
   "source": [
    "# Step 3: Standardize text data\n",
    "# Convert 'STRUTTURA' (facility name) and 'COMUNE' (city name) to uppercase\n",
    "df['STRUTTURA'] = df['STRUTTURA'].str.upper()\n",
    "df['COMUNE'] = df['COMUNE'].str.upper()\n"
   ]
  },
  {
   "cell_type": "code",
   "execution_count": 5,
   "id": "759baabb-bdb8-4ff9-a3f9-06bdb411deb8",
   "metadata": {},
   "outputs": [],
   "source": [
    "# Step 4: Convert coordinates to floats, handling non-numeric values\n",
    "# Replace commas with periods in 'LATITUDINE_P', 'LONGITUDINE_P', 'LATITUDINE_V', and 'LONGITUDINE_V', then convert to floats\n",
    "df['LATITUDINE_P'] = pd.to_numeric(df['LATITUDINE_P'].astype(str).str.replace(',', '.'), errors='coerce')\n",
    "df['LONGITUDINE_P'] = pd.to_numeric(df['LONGITUDINE_P'].astype(str).str.replace(',', '.'), errors='coerce')\n",
    "df['LATITUDINE_V'] = pd.to_numeric(df['LATITUDINE_V'].astype(str).str.replace(',', '.'), errors='coerce')\n",
    "df['LONGITUDINE_V'] = pd.to_numeric(df['LONGITUDINE_V'].astype(str).str.replace(',', '.'), errors='coerce')\n"
   ]
  },
  {
   "cell_type": "code",
   "execution_count": 6,
   "id": "15a72a04-287a-447a-b172-4d48de73f7ba",
   "metadata": {},
   "outputs": [
    {
     "name": "stdout",
     "output_type": "stream",
     "text": [
      "Missing values per column:\n",
      " COD_RIA_OD       0\n",
      "COD_RIA          0\n",
      "COD_REGIONE      0\n",
      "COD_ASL          0\n",
      "STRUTTURA        0\n",
      "COD_COMUNE       0\n",
      "COMUNE           0\n",
      "TELEFONO         0\n",
      "LATITUDINE_P     0\n",
      "LONGITUDINE_P    0\n",
      "LATITUDINE_V     0\n",
      "LONGITUDINE_V    0\n",
      "dtype: int64\n"
     ]
    }
   ],
   "source": [
    "# Step 5: Handle missing values\n",
    "# Check for missing values and decide whether to drop or fill them based on importance\n",
    "print(\"Missing values per column:\\n\", df.isnull().sum())"
   ]
  },
  {
   "cell_type": "code",
   "execution_count": null,
   "id": "fa348f9d-ee04-498d-9dc6-0dc41edb06b6",
   "metadata": {},
   "outputs": [],
   "source": [
    "# Drop the specified columns\n",
    "#columns_to_remove = ['COD_RIA_OD', 'COD_RIA', 'COD_REGIONE', 'COD_ASL']\n",
    "#df = df.drop(columns=columns_to_remove)"
   ]
  },
  {
   "cell_type": "code",
   "execution_count": 7,
   "id": "b6d686a6-d385-41c1-87e4-cd74f4c1fa66",
   "metadata": {},
   "outputs": [
    {
     "name": "stdout",
     "output_type": "stream",
     "text": [
      "Cleaning and standardization for RIASTRUT001.csv is complete!\n"
     ]
    }
   ],
   "source": [
    "# Step 6: Save the cleaned data to a new CSV file\n",
    "#df.to_csv('RIASTRUT001_cleaned.csv', index=False)\n",
    "\n",
    "print(\"Cleaning and standardization for RIASTRUT001.csv is complete!\")"
   ]
  },
  {
   "cell_type": "code",
   "execution_count": null,
   "id": "fea84c6b-f4d0-499b-800d-bddd360a0039",
   "metadata": {},
   "outputs": [],
   "source": []
  }
 ],
 "metadata": {
  "kernelspec": {
   "display_name": "Python 3 (ipykernel)",
   "language": "python",
   "name": "python3"
  },
  "language_info": {
   "codemirror_mode": {
    "name": "ipython",
    "version": 3
   },
   "file_extension": ".py",
   "mimetype": "text/x-python",
   "name": "python",
   "nbconvert_exporter": "python",
   "pygments_lexer": "ipython3",
   "version": "3.11.9"
  }
 },
 "nbformat": 4,
 "nbformat_minor": 5
}

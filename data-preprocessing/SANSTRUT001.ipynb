{
 "cells": [
  {
   "cell_type": "code",
   "execution_count": 1,
   "id": "9c8bcba2-147c-4be9-a846-8a9c1a21e437",
   "metadata": {},
   "outputs": [],
   "source": [
    "import pandas as pd\n",
    "\n",
    "# Load the data\n",
    "df = pd.read_csv('SANSTRUT001.csv')"
   ]
  },
  {
   "cell_type": "code",
   "execution_count": 2,
   "id": "5a194a45-331c-4f97-b0cc-47b3c7bcbd7b",
   "metadata": {},
   "outputs": [],
   "source": [
    "# Step 1: Remove duplicates\n",
    "df = df.drop_duplicates()"
   ]
  },
  {
   "cell_type": "code",
   "execution_count": 5,
   "id": "b47b81c4-8989-46c9-855a-14aeaf09a2d8",
   "metadata": {},
   "outputs": [],
   "source": [
    "# Step 2: Check and convert data types\n",
    "# Convert 'COD_STRUTTURA_OD' and 'COD_STRUTTURA' to strings as they are identifiers\n",
    "df['COD_STRUTTURA_OD'] = df['COD_STRUTTURA_OD'].astype(str)\n",
    "df['COD_STRUTTURA'] = df['COD_STRUTTURA'].astype(str)\n",
    "\n",
    "# Convert 'CAP' (postal code) and 'PARTITA_IVA' (VAT number) to strings as they are identifiers\n",
    "df['CAP'] = df['CAP'].astype(str)\n",
    "df['PARTITA_IVA'] = df['PARTITA_IVA'].astype(str)"
   ]
  },
  {
   "cell_type": "code",
   "execution_count": 7,
   "id": "3a399535-ac76-4452-837a-35b73a272960",
   "metadata": {},
   "outputs": [],
   "source": [
    "# Step 3: Standardize text data\n",
    "# Convert 'STRUTTURA' (facility name) and 'COMUNE' (city) to uppercase for consistency\n",
    "df['STRUTTURA'] = df['STRUTTURA'].str.upper()\n",
    "df['COMUNE'] = df['COMUNE'].str.upper()\n"
   ]
  },
  {
   "cell_type": "code",
   "execution_count": 8,
   "id": "c99f1e16-06b0-47de-ad7f-372435d99ee2",
   "metadata": {},
   "outputs": [],
   "source": [
    "# Step 4: Convert coordinates to floats, handling non-numeric values\n",
    "# Replace commas with periods in 'LATITUDINE_P', 'LONGITUDINE_P', 'LATITUDINE_V', and 'LONGITUDINE_V', then convert to floats\n",
    "df['LATITUDINE_P'] = pd.to_numeric(df['LATITUDINE_P'].astype(str).str.replace(',', '.'), errors='coerce')\n",
    "df['LONGITUDINE_P'] = pd.to_numeric(df['LONGITUDINE_P'].astype(str).str.replace(',', '.'), errors='coerce')\n",
    "df['LATITUDINE_V'] = pd.to_numeric(df['LATITUDINE_V'].astype(str).str.replace(',', '.'), errors='coerce')\n",
    "df['LONGITUDINE_V'] = pd.to_numeric(df['LONGITUDINE_V'].astype(str).str.replace(',', '.'), errors='coerce')\n"
   ]
  },
  {
   "cell_type": "code",
   "execution_count": 9,
   "id": "cd58e91b-d505-4cb8-b43a-271fb9e8e34f",
   "metadata": {},
   "outputs": [
    {
     "name": "stdout",
     "output_type": "stream",
     "text": [
      "Missing values per column:\n",
      " COD_STRUTTURA_OD       0\n",
      "COD_STRUTTURA          0\n",
      "COD_REGIONE            0\n",
      "COD_ASL                0\n",
      "STRUTTURA              0\n",
      "PARTITA_IVA            0\n",
      "SITO_WEB               0\n",
      "E_MAIL                 0\n",
      "COD_COMUNE             0\n",
      "COMUNE                 0\n",
      "INDIRIZZO              0\n",
      "CAP                    0\n",
      "TELEFONO               0\n",
      "FAX                    0\n",
      "COD_TIPO_ASSISTENZA    0\n",
      "ASSISTENZA             0\n",
      "COD_TIPO_RAPPORTO      0\n",
      "TIPO_RAPPORTO          0\n",
      "TIPO_STRUTTURA         0\n",
      "LATITUDINE_P           0\n",
      "LONGITUDINE_P          0\n",
      "LATITUDINE_V           0\n",
      "LONGITUDINE_V          0\n",
      "dtype: int64\n"
     ]
    }
   ],
   "source": [
    "# Step 5: Handle missing values\n",
    "# Check for missing values and decide whether to drop or fill them based on importance\n",
    "print(\"Missing values per column:\\n\", df.isnull().sum())\n",
    "\n",
    "# Optionally, drop rows with NaN in critical columns like coordinates if necessary\n",
    "# df = df.dropna(subset=['LATITUDINE_P', 'LONGITUDINE_P', 'LATITUDINE_V', 'LONGITUDINE_V'])"
   ]
  },
  {
   "cell_type": "code",
   "execution_count": null,
   "id": "16eef9ed-5386-4b27-8506-0d68e814fd7d",
   "metadata": {},
   "outputs": [],
   "source": [
    "# Drop the specified columns\n",
    "#columns_to_remove = ['COD_STRUTTURA_OD', 'COD_STRUTTURA', 'COD_REGIONE', 'COD_ASL']\n",
    "#df = df.drop(columns=columns_to_remove)"
   ]
  },
  {
   "cell_type": "code",
   "execution_count": 10,
   "id": "c398ec90-3edd-4d36-bd33-22a81330d519",
   "metadata": {},
   "outputs": [
    {
     "name": "stdout",
     "output_type": "stream",
     "text": [
      "Cleaning and standardization for SANSTRUT001.csv is complete!\n"
     ]
    }
   ],
   "source": [
    "# Step 6: Save the cleaned data to a new CSV file\n",
    "#df.to_csv('SANSTRUT001_cleaned.csv', index=False)\n",
    "\n",
    "print(\"Cleaning and standardization for SANSTRUT001.csv is complete!\")"
   ]
  },
  {
   "cell_type": "code",
   "execution_count": null,
   "id": "58f69b1b-11aa-452c-8349-3559974c9935",
   "metadata": {},
   "outputs": [],
   "source": []
  }
 ],
 "metadata": {
  "kernelspec": {
   "display_name": "Python 3 (ipykernel)",
   "language": "python",
   "name": "python3"
  },
  "language_info": {
   "codemirror_mode": {
    "name": "ipython",
    "version": 3
   },
   "file_extension": ".py",
   "mimetype": "text/x-python",
   "name": "python",
   "nbconvert_exporter": "python",
   "pygments_lexer": "ipython3",
   "version": "3.11.9"
  }
 },
 "nbformat": 4,
 "nbformat_minor": 5
}

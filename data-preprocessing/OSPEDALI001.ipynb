{
 "cells": [
  {
   "cell_type": "code",
   "execution_count": 2,
   "id": "8611f2f5-0b94-4c00-b029-775214b1e66c",
   "metadata": {},
   "outputs": [],
   "source": [
    "import pandas as pd"
   ]
  },
  {
   "cell_type": "code",
   "execution_count": 3,
   "id": "76b123eb-07a6-4cfb-ae46-a6fffb971e22",
   "metadata": {},
   "outputs": [],
   "source": [
    "# Load the data\n",
    "df = pd.read_csv('OSPEDALI001.csv')"
   ]
  },
  {
   "cell_type": "code",
   "execution_count": 4,
   "id": "fb8b87fa-1578-43fb-b942-a12b7560d65f",
   "metadata": {},
   "outputs": [],
   "source": [
    "# Step 1: Remove duplicates\n",
    "df = df.drop_duplicates()"
   ]
  },
  {
   "cell_type": "code",
   "execution_count": 5,
   "id": "cb88d4cb-f320-4dd2-adea-ca0e431dc134",
   "metadata": {},
   "outputs": [],
   "source": [
    "# Step 2: Check and convert data types\n",
    "# Convert 'COD_OSP', 'CAP' (postal code), and 'PARTITA_IVA' (VAT number) to strings as they are identifiers\n",
    "df['COD_OSP'] = df['COD_OSP'].astype(str)\n",
    "df['CAP'] = df['CAP'].astype(str)\n",
    "df['PARTITA_IVA'] = df['PARTITA_IVA'].astype(str)"
   ]
  },
  {
   "cell_type": "code",
   "execution_count": 6,
   "id": "67c4896e-da1f-48ea-9a8d-b4adb93bfb11",
   "metadata": {},
   "outputs": [],
   "source": [
    "# Step 3: Standardize text data for hospital names and addresses\n",
    "# Convert 'OSPEDALE' (hospital name) and 'COMUNE' (city name) to uppercase for consistency\n",
    "df['OSPEDALE'] = df['OSPEDALE'].str.upper()\n",
    "df['COMUNE'] = df['COMUNE'].str.upper()"
   ]
  },
  {
   "cell_type": "code",
   "execution_count": 7,
   "id": "7666cee6-bd8f-4afd-8df0-f69f1b96ebe7",
   "metadata": {},
   "outputs": [],
   "source": [
    "# Step 4: Convert coordinates to floats, handling non-numeric values\n",
    "# Convert to strings first, replace commas, then convert to numeric\n",
    "\n",
    "df['LATITUDINE_P'] = pd.to_numeric(df['LATITUDINE_P'].astype(str).str.replace(',', '.'), errors='coerce')\n",
    "df['LONGITUDINE_P'] = pd.to_numeric(df['LONGITUDINE_P'].astype(str).str.replace(',', '.'), errors='coerce')\n",
    "df['LATITUDINE_V'] = pd.to_numeric(df['LATITUDINE_V'].astype(str).str.replace(',', '.'), errors='coerce')\n",
    "df['LONGITUDINE_V'] = pd.to_numeric(df['LONGITUDINE_V'].astype(str).str.replace(',', '.'), errors='coerce')\n"
   ]
  },
  {
   "cell_type": "code",
   "execution_count": 8,
   "id": "9787ba4e-04bc-49f0-a33a-7396d55ba018",
   "metadata": {},
   "outputs": [
    {
     "name": "stdout",
     "output_type": "stream",
     "text": [
      "Missing values per column:\n",
      " COD_OSP_OD       0\n",
      "COD_OSP          0\n",
      "COD_REGIONE      0\n",
      "COD_ASL          0\n",
      "OSPEDALE         0\n",
      "COD_COMUNE       0\n",
      "COMUNE           0\n",
      "INDIRIZZO        0\n",
      "CAP              0\n",
      "TELEFONO         0\n",
      "COD_TIPO_OSP     0\n",
      "TIPO_OSP         0\n",
      "PARTITA_IVA      0\n",
      "FAX              0\n",
      "SITO_WEB         0\n",
      "E_MAIL           0\n",
      "LATITUDINE_P     0\n",
      "LONGITUDINE_P    0\n",
      "LATITUDINE_V     0\n",
      "LONGITUDINE_V    0\n",
      "dtype: int64\n"
     ]
    }
   ],
   "source": [
    "# Step 5: Handle missing or NaN values in coordinates\n",
    "# Optionally, you can drop rows with NaN coordinates or fill them with a default value if needed\n",
    "#df = df.dropna(subset=['LATITUDINE_P', 'LONGITUDINE_P', 'LATITUDINE_V', 'LONGITUDINE_V'])\n",
    "print(\"Missing values per column:\\n\", df.isnull().sum())\n"
   ]
  },
  {
   "cell_type": "code",
   "execution_count": null,
   "id": "f30c1a83-837a-483b-ab6d-483376c20401",
   "metadata": {},
   "outputs": [],
   "source": [
    "# Drop the specified columns\n",
    "#columns_to_remove = ['COD_OSP', 'COD_TIPO_OSP']\n",
    "#df = df.drop(columns=columns_to_remove)"
   ]
  },
  {
   "cell_type": "code",
   "execution_count": 9,
   "id": "738d88e4-2e14-43d4-96c1-a511087ce508",
   "metadata": {},
   "outputs": [
    {
     "name": "stdout",
     "output_type": "stream",
     "text": [
      "Cleaning and standardization for OSPEDALI001.csv is complete!\n"
     ]
    }
   ],
   "source": [
    "# Step 6: Save the cleaned data to a new CSV file\n",
    "#df.to_csv('OSPEDALI001_cleaned.csv', index=False)\n",
    "\n",
    "print(\"Cleaning and standardization for OSPEDALI001.csv is complete!\")"
   ]
  },
  {
   "cell_type": "code",
   "execution_count": null,
   "id": "ed4ccda9-4fbd-4a61-b87a-54c42b124643",
   "metadata": {},
   "outputs": [],
   "source": []
  }
 ],
 "metadata": {
  "kernelspec": {
   "display_name": "Python 3 (ipykernel)",
   "language": "python",
   "name": "python3"
  },
  "language_info": {
   "codemirror_mode": {
    "name": "ipython",
    "version": 3
   },
   "file_extension": ".py",
   "mimetype": "text/x-python",
   "name": "python",
   "nbconvert_exporter": "python",
   "pygments_lexer": "ipython3",
   "version": "3.11.9"
  }
 },
 "nbformat": 4,
 "nbformat_minor": 5
}

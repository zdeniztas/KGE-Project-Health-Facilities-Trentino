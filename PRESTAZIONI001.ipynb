{
 "cells": [
  {
   "cell_type": "code",
   "execution_count": 1,
   "id": "a9502dc3-b2c7-4607-86ff-c6b8dc23b8b4",
   "metadata": {},
   "outputs": [],
   "source": [
    "import pandas as pd\n"
   ]
  },
  {
   "cell_type": "code",
   "execution_count": 2,
   "id": "f7323fe5-1c20-4817-b295-528c6bf08d62",
   "metadata": {},
   "outputs": [],
   "source": [
    "# Load the data\n",
    "df = pd.read_csv('PRESTAZIONI001.csv')"
   ]
  },
  {
   "cell_type": "code",
   "execution_count": 3,
   "id": "f0bc89c2-81b9-40f7-a198-628df5dac372",
   "metadata": {},
   "outputs": [],
   "source": [
    "# Step 1: Remove duplicates\n",
    "df = df.drop_duplicates()"
   ]
  },
  {
   "cell_type": "code",
   "execution_count": 4,
   "id": "04bac281-1908-4047-848e-d2890ef85ff1",
   "metadata": {},
   "outputs": [],
   "source": [
    "# Step 2: Check and convert data types\n",
    "# Convert 'COD_PRESTAZIONE' to string as it represents a code\n",
    "df['COD_PRESTAZIONE'] = df['COD_PRESTAZIONE'].astype(str)"
   ]
  },
  {
   "cell_type": "code",
   "execution_count": 5,
   "id": "1f87f399-9e82-469e-af64-410fc49c3202",
   "metadata": {},
   "outputs": [],
   "source": [
    "# Convert 'ANNO' (year) and 'NUMERO' (count) to integer for consistency\n",
    "df['ANNO'] = df['ANNO'].astype(int)\n",
    "df['NUMERO'] = df['NUMERO'].astype(int)\n"
   ]
  },
  {
   "cell_type": "code",
   "execution_count": 6,
   "id": "48497e1d-4b81-4da8-886e-1d21c9499282",
   "metadata": {},
   "outputs": [],
   "source": [
    "# Step 3: Standardize text data\n",
    "# Convert 'DESC_PRESTAZIONE' (service description) to uppercase for consistency\n",
    "df['DESC_PRESTAZIONE'] = df['DESC_PRESTAZIONE'].str.upper()"
   ]
  },
  {
   "cell_type": "code",
   "execution_count": 7,
   "id": "ba5425c4-9bed-4ee6-aba3-59795464f348",
   "metadata": {},
   "outputs": [
    {
     "name": "stdout",
     "output_type": "stream",
     "text": [
      "Missing values per column:\n",
      " COD_TIPO_RAPPORTO    0\n",
      "TIPO_RAPPORTO        0\n",
      "COD_PRESTAZIONE      0\n",
      "DESC_PRESTAZIONE     0\n",
      "ANNO                 0\n",
      "NUMERO               0\n",
      "dtype: int64\n"
     ]
    }
   ],
   "source": [
    "# Step 4: Handle missing values if any\n",
    "# Check for missing values in critical columns\n",
    "print(\"Missing values per column:\\n\", df.isnull().sum())\n"
   ]
  },
  {
   "cell_type": "code",
   "execution_count": null,
   "id": "2f4b9d49-ca09-4463-a7dd-6ce43db67813",
   "metadata": {},
   "outputs": [],
   "source": [
    "# Drop the specified columns\n",
    "#columns_to_remove = ['COD_TIPO_RAPPORTO', 'COD_PRESTAZIONE']\n",
    "#df = df.drop(columns=columns_to_remove)"
   ]
  },
  {
   "cell_type": "code",
   "execution_count": 9,
   "id": "b2d350f1-e8dd-496c-b739-ed09e0fdf055",
   "metadata": {},
   "outputs": [
    {
     "name": "stdout",
     "output_type": "stream",
     "text": [
      "Cleaning and standardization for PARAFARM001.csv is complete!\n"
     ]
    }
   ],
   "source": [
    "# Step 5: Save the cleaned data to a new CSV file\n",
    "#df.to_csv('PRESTAZIONI001_cleaned.csv', index=False)\n",
    "print(\"Cleaning and standardization for PARAFARM001.csv is complete!\")"
   ]
  },
  {
   "cell_type": "code",
   "execution_count": null,
   "id": "f951e590-5898-4636-afc4-9ef0292a03a3",
   "metadata": {},
   "outputs": [],
   "source": []
  }
 ],
 "metadata": {
  "kernelspec": {
   "display_name": "Python 3 (ipykernel)",
   "language": "python",
   "name": "python3"
  },
  "language_info": {
   "codemirror_mode": {
    "name": "ipython",
    "version": 3
   },
   "file_extension": ".py",
   "mimetype": "text/x-python",
   "name": "python",
   "nbconvert_exporter": "python",
   "pygments_lexer": "ipython3",
   "version": "3.11.9"
  }
 },
 "nbformat": 4,
 "nbformat_minor": 5
}
